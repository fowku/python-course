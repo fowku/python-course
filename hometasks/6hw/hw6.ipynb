{
 "cells": [
  {
   "cell_type": "markdown",
   "metadata": {},
   "source": [
    "### 1\n",
    "\n",
    "Напишите менеджер контекста, который позволит засекать время выполнения блока кода с помощью конструкции\n",
    "with и выводить это время на экран по выходу из блока.\n",
    "\n",
    "Пример использования:\n",
    "```python\n",
    ">>> import time\n",
    "\n",
    ">>> def do_some_long_stuff():\n",
    "...     time.sleep(10)\n",
    "...\n",
    "\n",
    ">>> with Timer():\n",
    "...     do_some_long_stuff()\n",
    "...   \n",
    "    \n",
    "Time elapsed:  10.002187691999978\n",
    "```"
   ]
  },
  {
   "cell_type": "code",
   "execution_count": 12,
   "metadata": {},
   "outputs": [],
   "source": [
    "import time\n",
    "\n",
    "\n",
    "class Timer:\n",
    "    def __init__(self):\n",
    "        self.timer = None\n",
    "\n",
    "    def __enter__(self):\n",
    "        self.timer = time.perf_counter()\n",
    "    \n",
    "    def __exit__(self, type, value, traceback):\n",
    "        print(time.perf_counter() - self.timer)"
   ]
  },
  {
   "cell_type": "code",
   "execution_count": 13,
   "metadata": {},
   "outputs": [],
   "source": [
    "def do_some_long_stuff():\n",
    "    time.sleep(2)"
   ]
  },
  {
   "cell_type": "code",
   "execution_count": 14,
   "metadata": {},
   "outputs": [
    {
     "output_type": "stream",
     "name": "stdout",
     "text": "2.0040627159978612\n"
    }
   ],
   "source": [
    "with Timer():\n",
    "    do_some_long_stuff()"
   ]
  },
  {
   "cell_type": "markdown",
   "metadata": {},
   "source": [
    "### 2\n",
    "Напишите генератор, который принимает на вход две неубывающие последовательности и выдает одну объединенную\n",
    "неубывающую последовательность (аналогично merge из первого дз).\n",
    "\n",
    "_Примечание: Последовательность -- любой объект, по которому можно проитерироваться._"
   ]
  },
  {
   "cell_type": "code",
   "execution_count": 15,
   "metadata": {},
   "outputs": [],
   "source": [
    "def merger(lst1, lst2):\n",
    "    lst1_ind = 0\n",
    "    lst2_ind = 0\n",
    "\n",
    "    while lst1_ind < len(lst1) and lst2_ind < len(lst2):\n",
    "        if lst1[lst1_ind] == lst2[lst2_ind]:\n",
    "            yield lst1[lst1_ind]\n",
    "            yield lst2[lst2_ind]\n",
    "            lst1_ind += 1\n",
    "            lst2_ind += 1\n",
    "            continue\n",
    "\n",
    "        if lst1[lst1_ind] < lst2[lst2_ind]:\n",
    "            yield lst1[lst1_ind]\n",
    "            lst1_ind += 1\n",
    "            continue\n",
    "\n",
    "        if lst2[lst2_ind] < lst1[lst1_ind]:\n",
    "            yield lst2[lst2_ind]\n",
    "            lst2_ind += 1\n",
    "            continue\n",
    "\n",
    "    if lst1_ind == len(lst1):\n",
    "        while lst2_ind < len(lst2):\n",
    "            yield lst2[lst2_ind]\n",
    "            lst2_ind += 1\n",
    "    else:\n",
    "        while lst1_ind < len(lst1):\n",
    "            yield lst1[lst1_ind]\n",
    "            lst1_ind += 1"
   ]
  },
  {
   "cell_type": "code",
   "execution_count": 16,
   "metadata": {},
   "outputs": [
    {
     "output_type": "stream",
     "name": "stdout",
     "text": "1\n1\n2\n3\n5\n7\n10\n15\n"
    }
   ],
   "source": [
    "for i in merger([1, 2, 5, 10, 15], [1, 3, 7]):\n",
    "    print(i)"
   ]
  },
  {
   "cell_type": "markdown",
   "metadata": {},
   "source": [
    "### 3\n",
    "Создайте собственный класс-итератор, который в качестве параметра конструктора принимает на вход число N и итерируется\n",
    "по N случайным числам."
   ]
  },
  {
   "cell_type": "code",
   "execution_count": 8,
   "metadata": {},
   "outputs": [],
   "source": [
    "from random import randint\n",
    "\n",
    "class RandNumbers:\n",
    "    def __init__(self, n):\n",
    "        self.stop = n\n",
    "\n",
    "    def __iter__(self):\n",
    "        self.counter = 0\n",
    "        return self\n",
    "\n",
    "    def __next__(self):\n",
    "        if self.counter < self.stop:\n",
    "            self.counter += 1\n",
    "            return randint(0, 100)\n",
    "\n",
    "        raise StopIteration"
   ]
  },
  {
   "cell_type": "code",
   "execution_count": 9,
   "metadata": {
    "tags": [
     "outputPrepend",
     "outputPrepend",
     "outputPrepend",
     "outputPrepend",
     "outputPrepend",
     "outputPrepend",
     "outputPrepend",
     "outputPrepend",
     "outputPrepend",
     "outputPrepend",
     "outputPrepend",
     "outputPrepend",
     "outputPrepend",
     "outputPrepend",
     "outputPrepend",
     "outputPrepend",
     "outputPrepend",
     "outputPrepend",
     "outputPrepend",
     "outputPrepend",
     "outputPrepend",
     "outputPrepend",
     "outputPrepend",
     "outputPrepend"
    ]
   },
   "outputs": [
    {
     "output_type": "stream",
     "name": "stdout",
     "text": "76\n56\n5\n35\n13\n25\n"
    }
   ],
   "source": [
    "r = RandNumbers(6)\n",
    "\n",
    "for num in r:\n",
    "    print(num)"
   ]
  },
  {
   "cell_type": "markdown",
   "metadata": {},
   "source": [
    "### 4\n",
    "Напишите генератор filter, который принимает предикат и последовательность и выдает последовательность, в которой отсутствуют элементы, для которых предикат истенен (аналогично встроенной функции `filter`)"
   ]
  },
  {
   "cell_type": "code",
   "execution_count": 17,
   "metadata": {},
   "outputs": [],
   "source": [
    "def filter(func, elements):\n",
    "    for elem in elements:\n",
    "        if func(elem):\n",
    "            yield elem"
   ]
  },
  {
   "cell_type": "code",
   "execution_count": 18,
   "metadata": {},
   "outputs": [
    {
     "output_type": "stream",
     "name": "stdout",
     "text": "125\n214\n52\n12\n"
    }
   ],
   "source": [
    "for i in filter(lambda x: x > 5, [2, 4, 1, 125, 2, 214, 52, 12, 5]):\n",
    "    print(i)"
   ]
  },
  {
   "cell_type": "markdown",
   "metadata": {},
   "source": [
    "### 5\n",
    "Напишите функцию-генератор факториалов, которая принимает принимает на вход n - максимальное число, для которого может вычислить факториал (n!).\n",
    "\n",
    "Например:\n",
    "```python\n",
    ">>> f10 = fact_generator(10)\n",
    "\n",
    ">>> next(f10)\n",
    "1\n",
    "\n",
    ">>> next(f10) \n",
    "2\n",
    "\n",
    ">>> next(f10)\n",
    "6\n",
    "```\n"
   ]
  },
  {
   "cell_type": "code",
   "execution_count": 25,
   "metadata": {},
   "outputs": [],
   "source": [
    "def fact_generator(maximum):\n",
    "    number = 1\n",
    "\n",
    "    for i in range(1, maximum):\n",
    "        number *= i\n",
    "        yield number"
   ]
  },
  {
   "cell_type": "code",
   "execution_count": 26,
   "metadata": {},
   "outputs": [
    {
     "output_type": "stream",
     "name": "stdout",
     "text": "1\n2\n6\n24\n120\n720\n5040\n40320\n362880\n"
    }
   ],
   "source": [
    "for i in fact_generator(10):\n",
    "    print(i)"
   ]
  },
  {
   "cell_type": "code",
   "execution_count": null,
   "metadata": {},
   "outputs": [],
   "source": []
  }
 ],
 "metadata": {
  "kernelspec": {
   "display_name": "Python 3",
   "language": "python",
   "name": "python3"
  },
  "language_info": {
   "codemirror_mode": {
    "name": "ipython",
    "version": 3
   },
   "file_extension": ".py",
   "mimetype": "text/x-python",
   "name": "python",
   "nbconvert_exporter": "python",
   "pygments_lexer": "ipython3",
   "version": "3.7.3-final"
  }
 },
 "nbformat": 4,
 "nbformat_minor": 2
}