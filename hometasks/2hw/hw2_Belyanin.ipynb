{
 "cells": [
  {
   "cell_type": "markdown",
   "metadata": {},
   "source": [
    "### Задание 1"
   ]
  },
  {
   "cell_type": "markdown",
   "metadata": {},
   "source": [
    "Реализуйте функцию union, возвращающую объединение произвольного числа множеств."
   ]
  },
  {
   "cell_type": "code",
   "execution_count": 28,
   "metadata": {},
   "outputs": [],
   "source": [
    "def union(*sets):\n",
    "    common_set = set()\n",
    "\n",
    "    for _set in sets:\n",
    "        common_set = common_set.union(_set)\n",
    "\n",
    "    return common_set"
   ]
  },
  {
   "cell_type": "code",
   "execution_count": 29,
   "metadata": {},
   "outputs": [
    {
     "data": {
      "text/plain": "{1, 2, 3, 6, 10}"
     },
     "execution_count": 29,
     "metadata": {},
     "output_type": "execute_result"
    }
   ],
   "source": [
    "union({1, 2, 3}, {10}, {2, 6})"
   ]
  },
  {
   "cell_type": "markdown",
   "metadata": {},
   "source": [
    "### Задание 2"
   ]
  },
  {
   "cell_type": "markdown",
   "metadata": {},
   "source": [
    "Реализуйте функцию digits, возвращающую список цифр неотрицательного целого числа.\n",
    "\n",
    "Пользоваться функцией str для реализации функции digits нельзя."
   ]
  },
  {
   "cell_type": "code",
   "execution_count": 48,
   "metadata": {},
   "outputs": [],
   "source": [
    "def digits(number):\n",
    "    if (number < 0):\n",
    "        return []\n",
    "\n",
    "    if number == 0:\n",
    "        return [0]\n",
    "\n",
    "    list_of_nums = []\n",
    "\n",
    "    while number:\n",
    "        list_of_nums.append(number % 10)\n",
    "        number //= 10\n",
    "\n",
    "    list_of_nums.reverse()\n",
    "\n",
    "    return list_of_nums"
   ]
  },
  {
   "cell_type": "code",
   "execution_count": 49,
   "metadata": {},
   "outputs": [
    {
     "data": {
      "text/plain": "[0]"
     },
     "execution_count": 49,
     "metadata": {},
     "output_type": "execute_result"
    }
   ],
   "source": [
    "digits(0) # [0]"
   ]
  },
  {
   "cell_type": "code",
   "execution_count": 50,
   "metadata": {},
   "outputs": [
    {
     "data": {
      "text/plain": "[1, 9, 1, 4]"
     },
     "execution_count": 50,
     "metadata": {},
     "output_type": "execute_result"
    }
   ],
   "source": [
    "digits(1914) # [1, 9, 1, 4]"
   ]
  },
  {
   "cell_type": "markdown",
   "metadata": {},
   "source": [
    "### Задание 3"
   ]
  },
  {
   "cell_type": "markdown",
   "metadata": {},
   "source": [
    "Напишите функцию lcm, вычисляющую НОК (наименьшее общее кратное) двух и более целых чисел. \n",
    "\n",
    "В данном задании можно использовать функцию gcd из модуля math `from math import gcd`\n",
    "\n",
    "В случае, если передано меньше чисел, чем 2, должно быть брошено исключение. Бросать исключения с помощью raise запрещено.\n"
   ]
  },
  {
   "cell_type": "code",
   "execution_count": 54,
   "metadata": {},
   "outputs": [],
   "source": [
    "from math import gcd\n",
    "\n",
    "\n",
    "def lcm_two(a, b):\n",
    "    return abs(a * b)//gcd(a, b)\n",
    "\n",
    "\n",
    "def lcm(a, b, *numbers):\n",
    "    prev_lcm = lcm_two(a, b)\n",
    "\n",
    "    for i in range(len(numbers)):\n",
    "        prev_lcm = lcm_two(prev_lcm, numbers[i])\n",
    "\n",
    "    return prev_lcm"
   ]
  },
  {
   "cell_type": "code",
   "execution_count": 55,
   "metadata": {},
   "outputs": [
    {
     "data": {
      "text/plain": "703500"
     },
     "execution_count": 55,
     "metadata": {},
     "output_type": "execute_result"
    }
   ],
   "source": [
    "lcm(100500, 42) # 703500"
   ]
  },
  {
   "cell_type": "code",
   "execution_count": 56,
   "metadata": {},
   "outputs": [
    {
     "data": {
      "text/plain": "19890"
     },
     "execution_count": 56,
     "metadata": {},
     "output_type": "execute_result"
    }
   ],
   "source": [
    "lcm(*range(2, 40, 8)) # 19890"
   ]
  },
  {
   "cell_type": "markdown",
   "metadata": {},
   "source": [
    "### Задание 4"
   ]
  },
  {
   "cell_type": "markdown",
   "metadata": {},
   "source": [
    "Реализуйте функцию compose, которая принимает две и более функции от одного аргумента, и возвращает их композицию."
   ]
  },
  {
   "cell_type": "code",
   "execution_count": 65,
   "metadata": {},
   "outputs": [],
   "source": [
    "def compose(*funcs):\n",
    "    def res(num):\n",
    "        for func in reversed(funcs):\n",
    "            num = func(num)\n",
    "        return num\n",
    "\n",
    "    return res"
   ]
  },
  {
   "cell_type": "code",
   "execution_count": 68,
   "metadata": {},
   "outputs": [
    {
     "data": {
      "text/plain": "14"
     },
     "execution_count": 68,
     "metadata": {},
     "output_type": "execute_result"
    }
   ],
   "source": [
    "f = compose(lambda x: 2 * x, lambda x: x + 1, lambda x: x % 9) \n",
    "f(42)# 14"
   ]
  },
  {
   "cell_type": "code",
   "execution_count": 67,
   "metadata": {},
   "outputs": [
    {
     "data": {
      "text/plain": "14"
     },
     "execution_count": 67,
     "metadata": {},
     "output_type": "execute_result"
    }
   ],
   "source": [
    "2 * ((42 % 9) + 1)"
   ]
  },
  {
   "cell_type": "markdown",
   "metadata": {},
   "source": [
    "### Задание 5"
   ]
  },
  {
   "cell_type": "markdown",
   "metadata": {},
   "source": [
    "Напишите списковое выражение, которое для данного n генерирует все пифагоровские тройки из чисел не больше, чем n (x, y, z называется пифагоровской тройкой, если $x^2 + y^2 = z^2$)."
   ]
  },
  {
   "cell_type": "code",
   "execution_count": 70,
   "metadata": {},
   "outputs": [],
   "source": [
    "def get_pyth_triple(n):\n",
    "    return [(i**2 - j**2, 2*i*j, i**2 + j**2) for i in range(2, n) for j in range(1, i - 1) if i**2 + j**2 <= n]"
   ]
  },
  {
   "cell_type": "code",
   "execution_count": 71,
   "metadata": {},
   "outputs": [
    {
     "data": {
      "text/plain": "[(8, 6, 10),\n (15, 8, 17),\n (12, 16, 20),\n (24, 10, 26),\n (21, 20, 29),\n (16, 30, 34),\n (35, 12, 37),\n (32, 24, 40),\n (27, 36, 45),\n (48, 14, 50)]"
     },
     "execution_count": 71,
     "metadata": {},
     "output_type": "execute_result"
    }
   ],
   "source": [
    "get_pyth_triple(50)"
   ]
  },
  {
   "cell_type": "markdown",
   "metadata": {},
   "source": [
    "### Задание 6"
   ]
  },
  {
   "cell_type": "markdown",
   "metadata": {},
   "source": [
    "Алексей написал следующий код:\n",
    "```python\n",
    "def factory(n):\n",
    "    list_to_return = []\n",
    "    for i in range(n):\n",
    "        list_to_return.append(lambda: i)\n",
    "    return list_to_return \n",
    "```\n",
    "но его код работает не так, как он ожидал:\n",
    "```python\n",
    ">>> for func in factory(5):\n",
    "        print(func())\n",
    "4\n",
    "4\n",
    "4\n",
    "4\n",
    "4\n",
    "```\n",
    "Вам предстоит:\n",
    "- объяснить Алексею почему так получилось в 2-4 предложениях\n",
    "- переписать код функции factory так, чтобы исправить проблему"
   ]
  },
  {
   "cell_type": "markdown",
   "metadata": {},
   "source": [
    "В замыкании создается лямбда выражение, в котором возвращается i.\n",
    "Функция запоминает окружение, однако, уже по выполнению цикла. Т.е. на его последнем шаге."
   ]
  },
  {
   "cell_type": "code",
   "execution_count": 90,
   "metadata": {},
   "outputs": [],
   "source": [
    "def factory(n):\n",
    "    list_to_return = []\n",
    "    for i in range(n):\n",
    "        list_to_return.append(lambda x = i: x)\n",
    "    return list_to_return "
   ]
  },
  {
   "cell_type": "code",
   "execution_count": 91,
   "metadata": {},
   "outputs": [
    {
     "name": "stdout",
     "output_type": "stream",
     "text": "0\n1\n2\n3\n4\n"
    }
   ],
   "source": [
    "for func in factory(5):\n",
    "    print(func())"
   ]
  }
 ],
 "metadata": {
  "kernelspec": {
   "display_name": "Python 3",
   "language": "python",
   "name": "python3"
  },
  "language_info": {
   "codemirror_mode": {
    "name": "ipython",
    "version": 3
   },
   "file_extension": ".py",
   "mimetype": "text/x-python",
   "name": "python",
   "nbconvert_exporter": "python",
   "pygments_lexer": "ipython3",
   "version": "3.7.3-final"
  }
 },
 "nbformat": 4,
 "nbformat_minor": 2
}