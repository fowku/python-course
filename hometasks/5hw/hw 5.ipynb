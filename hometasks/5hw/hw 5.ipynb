{
 "cells": [
  {
   "cell_type": "code",
   "execution_count": 7,
   "metadata": {},
   "outputs": [],
   "source": [
    "from collections import defaultdict\n",
    "import os"
   ]
  },
  {
   "cell_type": "markdown",
   "metadata": {},
   "source": [
    "Во всех заданиях необходимо написать функцию (или несколько, можно даже класс, но не просто ячейку с кодом)"
   ]
  },
  {
   "cell_type": "markdown",
   "metadata": {},
   "source": [
    "### 1\n",
    "В файле (`dict.txt`) находится англо-латинский словарь, то есть список слов на английском языке и их переводы на латинский язык (переводов может быть несколько). Необходимо создать из него латино-английский словарь. Например, из словаря\n",
    "```\n",
    "apple - malum, pomum, popula\n",
    "fruit - baca, bacca, popum\n",
    "punishment - malum, multa\n",
    "```\n",
    "нужно сделать словарь.\n",
    "\n",
    "```\n",
    "baca - fruit\n",
    "bacca - fruit\n",
    "malum - apple, punishment\n",
    "multa - punishment\n",
    "pomum - apple\n",
    "popula - apple\n",
    "popum - fruit\n",
    "```\n",
    "\n",
    "Не забудьте, что слова нужно расположить в алфавитном порядке.\n",
    "\n",
    "Поощрается использование `collections.defaultdict`\n"
   ]
  },
  {
   "cell_type": "code",
   "execution_count": 130,
   "metadata": {},
   "outputs": [],
   "source": [
    "def reverse_dict(file_name):\n",
    "    file = open(file_name, 'r')\n",
    "    lines = file.readlines()\n",
    "    file.close()\n",
    "\n",
    "    original = defaultdict(list, **{})\n",
    "\n",
    "    # split into common dictionary\n",
    "    for line in lines:\n",
    "        words = line.strip().split(' - ')\n",
    "        for word in words[1].split(', '):\n",
    "            original[words[0]].append(word)\n",
    "\n",
    "    reversed = defaultdict(list, **{})\n",
    "\n",
    "    # reverse dictionary\n",
    "    for key, values in original.items():\n",
    "        for elem in values:\n",
    "            reversed[elem].append(key)\n",
    "\n",
    "    # sort values\n",
    "    for key in reversed:\n",
    "        reversed[key].sort()\n",
    "\n",
    "    output = open('output.txt', 'w')\n",
    "    \n",
    "    # write to new file\n",
    "    for word in sorted(reversed):\n",
    "        output.write(word + ' - ' + ', '.join(reversed[word]) + '\\n')\n",
    "\n",
    "    output.close()"
   ]
  },
  {
   "cell_type": "code",
   "execution_count": 131,
   "metadata": {},
   "outputs": [
    {
     "output_type": "stream",
     "name": "stdout",
     "text": "baca - fruit\nbacca - fruit\nmalum - apple, punishment\nmulta - punishment\npomum - apple\npopula - apple\npopum - fruit\n\n"
    }
   ],
   "source": [
    "reverse_dict('dict.txt')\n",
    "\n",
    "output = open('output.txt', 'r')\n",
    "print(output.read())\n",
    "output.close()"
   ]
  },
  {
   "cell_type": "markdown",
   "metadata": {},
   "source": [
    "### 2\n",
    "\n",
    "Напишите программу, которая выписывает список файлов в данной директории и сортирует их в соответствии с их размером. Программа должна просить пользователя ввести путь к директории и печатать на экран имена всех файлов в ней и их размеры, причем первыми должны идти файлы с наибольшими размерами, а в случае одинакового размер файлы сортируются по алфавиту.\n",
    "\n",
    "_Указание. Изучите функции `listdir` и `stat` из модуля `os` и функции `isfile` и `join` из модуля `os.path`._"
   ]
  },
  {
   "cell_type": "code",
   "execution_count": 132,
   "metadata": {},
   "outputs": [],
   "source": [
    "def show_files():\n",
    "    dir = input('Enter directory')\n",
    "    files = []\n",
    "\n",
    "    directory = os.listdir(dir)\n",
    "    \n",
    "    for file in directory:\n",
    "        path = os.path.join(dir, file)\n",
    "        if os.path.isfile(path):\n",
    "            files.append({'name': file, 'size': os.stat(path).st_size})\n",
    "    \n",
    "    files.sort(key=lambda x: (-x['size'], x['name']))\n",
    "\n",
    "    print(files)"
   ]
  },
  {
   "cell_type": "code",
   "execution_count": 134,
   "metadata": {},
   "outputs": [
    {
     "output_type": "stream",
     "name": "stdout",
     "text": "[{'name': 'fff.c4d', 'size': 4406944}, {'name': 'работа.jar', 'size': 2900901}, {'name': 'ддд.png', 'size': 2519419}, {'name': 'concrete.jpg', 'size': 2365763}, {'name': 'play.c4d', 'size': 422679}, {'name': 'Screenshot 2020-03-15 at 23.50.38.png', 'size': 402739}, {'name': 'Screenshot 2019-12-09 at 23.18.37.png', 'size': 133022}, {'name': 'Thumbs.db', 'size': 56320}, {'name': 'Белянин, Объяснительная.docx', 'size': 16667}, {'name': '.DS_Store', 'size': 14340}, {'name': '.Rhistory', 'size': 13214}, {'name': 'NewProject.1.toe', 'size': 4314}, {'name': 'NewProject.toe', 'size': 4314}, {'name': 'Internet Explorer 11 on Windows 10', 'size': 820}, {'name': 'desktop.ini', 'size': 282}, {'name': '.localized', 'size': 0}]\n"
    }
   ],
   "source": [
    "show_files()"
   ]
  },
  {
   "cell_type": "markdown",
   "metadata": {},
   "source": [
    "### 3\n",
    "\n",
    "Напишите программу, которая находит любую последовательность цифр в знаках десятичной записи числа π. \n",
    "\n",
    "В файле pi.txt, который приложен к заданию, выписаны первый 1 миллион знаков этой записи. \n",
    "\n",
    "Программа должна загружать этот файл, считывать с клавиатуры последовательность цифр и находить все вхождения этой последовательность (номера первого знака). Так как вхождений может быть очень много, на экран должно выводиться только количество этих вхождений и первые 5 из них. Ниже приведены примеры работы с такой программой в консоли (количество найденных последовательностей может отличаться):\n",
    "\n",
    "```\n",
    "Enter sequence to search for.\n",
    "> 123\n",
    "Found 4185 results.\n",
    "Positions: 1923 2937 2975 3891 6547 ...\n",
    "\n",
    "Enter sequence to search for.\n",
    "> 1415\n",
    "Found 424 results.\n",
    "Positions: 0 6954 29135 45233 79686 ...\n",
    "```\n",
    "\n",
    "Указание. Вспомните про функцию `str.find`."
   ]
  },
  {
   "cell_type": "code",
   "execution_count": 209,
   "metadata": {},
   "outputs": [],
   "source": [
    "def pi_entry():\n",
    "    number = input('Enter sequence to search for')\n",
    "    file = open('pi.txt', 'r')\n",
    "    pi = file.readlines()\n",
    "    file.close()\n",
    "\n",
    "    entries = []\n",
    "\n",
    "    if number == '3':\n",
    "        entries.append(0)\n",
    "\n",
    "    length_of_str = len(pi[1])\n",
    "\n",
    "    for i in range(1, len(pi)):\n",
    "        entry = pi[i].find(number)\n",
    "\n",
    "        if entry > -1:\n",
    "            entries.append(length_of_str * (i - 1) + entry + 3)\n",
    "\n",
    "    print('Found ', len(entries), ' results')\n",
    "\n",
    "    if len(entries) > 5:\n",
    "        print('Positions:', entries[0:5], '...')\n",
    "    else:\n",
    "        print('Positions:', entries)"
   ]
  },
  {
   "cell_type": "code",
   "execution_count": 210,
   "metadata": {
    "tags": [
     "outputPrepend"
    ]
   },
   "outputs": [
    {
     "output_type": "stream",
     "name": "stdout",
     "text": "Found  19887  results\nPositions: [0, 11, 67, 115, 175] ...\n"
    }
   ],
   "source": [
    "pi_entry()"
   ]
  },
  {
   "cell_type": "markdown",
   "metadata": {},
   "source": [
    "### 4\n",
    "Дана строка. Если ее длина по крайней мере 3, добавьте в конец 'ing', кроме случая, когда строка уже заканчивается на 'ing'.\n",
    "В этом случае добавьте в конец 'ly' вместо 'ing'. Если длина стркои меньше 3, верните ее неизменной.\n",
    "Функция возвращает строку-результат."
   ]
  },
  {
   "cell_type": "markdown",
   "metadata": {},
   "source": [
    "### 5\n",
    "\n",
    "Дана строка, найдите первые вхождения подстрок not и bad.\n",
    "Если bad следует за not, замените всю подстроку not ... bad строкой good, иначе оставьте строку неизменной.\n",
    "Функция возвращает строку-результат."
   ]
  },
  {
   "cell_type": "markdown",
   "metadata": {},
   "source": [
    "### 6\n",
    "Написать упрощенный вариант утилиты `nl` - функцию, которая выдает в `stdout` пронумерованные строки из файла.\n",
    "\n",
    "Если путь к файл не передан, то `nl` читает строки из stdin.\n",
    "\n",
    "Функция должна работать так же, как \n",
    "\n",
    "```\n",
    "nl -b a\n",
    "```\n",
    "\n",
    "Т.е. для файла вида \n",
    "```\n",
    "smth\n",
    "smth\n",
    "smth\n",
    "smth\n",
    "smth\n",
    "```\n",
    "\n",
    "должно быть выведено\n",
    "```\n",
    "     1\tsmth\n",
    "     2\tsmth\n",
    "     3\tsmth\n",
    "     4\tsmth\n",
    "     5\tsmth\n",
    "```"
   ]
  },
  {
   "cell_type": "code",
   "execution_count": null,
   "metadata": {},
   "outputs": [],
   "source": []
  }
 ],
 "metadata": {
  "kernelspec": {
   "display_name": "Python 3",
   "language": "python",
   "name": "python3"
  },
  "language_info": {
   "codemirror_mode": {
    "name": "ipython",
    "version": 3
   },
   "file_extension": ".py",
   "mimetype": "text/x-python",
   "name": "python",
   "nbconvert_exporter": "python",
   "pygments_lexer": "ipython3",
   "version": "3.7.3-final"
  }
 },
 "nbformat": 4,
 "nbformat_minor": 2
}